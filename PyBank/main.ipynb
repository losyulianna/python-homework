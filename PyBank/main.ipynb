{
 "cells": [
  {
   "cell_type": "code",
   "execution_count": null,
   "id": "279fb8cd-9c7f-4099-995a-ca18926e1fc0",
   "metadata": {},
   "outputs": [],
   "source": []
  },
  {
   "cell_type": "code",
   "execution_count": 26,
   "id": "ae0678ea-467b-4055-8711-03b5e28e4925",
   "metadata": {},
   "outputs": [],
   "source": [
    "from pathlib import Path\n",
    "import csv\n",
    "import pandas as pd"
   ]
  },
  {
   "cell_type": "code",
   "execution_count": 2,
   "id": "310e1ce4-028a-4c2b-be53-979fcb4258bd",
   "metadata": {},
   "outputs": [],
   "source": [
    "# Read in CSV file\n",
    "\n",
    "csvpath = Path(\"./budget_data.csv\")"
   ]
  },
  {
   "cell_type": "code",
   "execution_count": 32,
   "id": "b3b17834-0aa4-4777-b9be-371e106857f5",
   "metadata": {},
   "outputs": [
    {
     "name": "stdout",
     "output_type": "stream",
     "text": [
      "Financial Analysis\n",
      "-------------------------\n",
      "total months = 86\n",
      "total amount = 38382578\n"
     ]
    }
   ],
   "source": [
    "# Open the input path as a file object\n",
    "with open(csvpath, 'r') as csvfile:\n",
    "\n",
    "    # Pass in the csv file to the csv.reader() function\n",
    "    # (with ',' as the delmiter/separator) and return the csvreader object\n",
    "    csvreader = csv.reader(csvfile, delimiter=',')\n",
    "\n",
    "    # Go to the next row from the start of the file\n",
    "    # (which is often the first row/header) and iterate line_num by 1\n",
    "    header = next(csvreader)\n",
    "    \n",
    "    # Print the header\n",
    "    #print(f\"{header} <---- HEADER\")\n",
    "    \n",
    "    # Read each row of data after the header\n",
    "    count=0\n",
    "    total_amount=0\n",
    "\n",
    "\n",
    "    for row in csvreader:\n",
    "        count+=1\n",
    "        total_amount=total_amount+int(row[1])\n",
    "      \n",
    "        \n",
    "    # Print the row\n",
    "        # print(row[0])\n",
    "        \n",
    "    total_months=count\n",
    "    \n",
    "print(\"Financial Analysis\")\n",
    "print(\"-\"*25)\n",
    "print(\"total months =\",total_months)    \n",
    "print(\"total amount =\",total_amount)  \n",
    "\n",
    "\n",
    "\n",
    "\n",
    "#The average of the changes in Profit/Losses over the entire period\n",
    "\n",
    "\n",
    "#create profit loss list: \n",
    "\n",
    "\n",
    "\n",
    "\n"
   ]
  },
  {
   "cell_type": "code",
   "execution_count": null,
   "id": "91e9b91b-8b55-412c-8a26-308ee9dc247e",
   "metadata": {},
   "outputs": [],
   "source": [
    "\n"
   ]
  }
 ],
 "metadata": {
  "kernelspec": {
   "display_name": "Python 3 (ipykernel)",
   "language": "python",
   "name": "python3"
  },
  "language_info": {
   "codemirror_mode": {
    "name": "ipython",
    "version": 3
   },
   "file_extension": ".py",
   "mimetype": "text/x-python",
   "name": "python",
   "nbconvert_exporter": "python",
   "pygments_lexer": "ipython3",
   "version": "3.9.12"
  }
 },
 "nbformat": 4,
 "nbformat_minor": 5
}
